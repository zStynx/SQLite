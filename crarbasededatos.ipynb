{
 "cells": [
  {
   "cell_type": "code",
   "execution_count": 22,
   "metadata": {},
   "outputs": [],
   "source": [
    "import sqlite3\n",
    "# Con el comando connect buscará la base de datos\n",
    "# que tenga ese nombre, de lo contrario lo creará.\n",
    "conexion = sqlite3.connect(\"bdbiblioteca.db\")\n",
    "conexion.close()"
   ]
  },
  {
   "cell_type": "code",
   "execution_count": 23,
   "id": "e4cd42e8",
   "metadata": {},
   "outputs": [
    {
     "ename": "OperationalError",
     "evalue": "table pais already exists",
     "output_type": "error",
     "traceback": [
      "\u001b[1;31m---------------------------------------------------------------------------\u001b[0m",
      "\u001b[1;31mOperationalError\u001b[0m                          Traceback (most recent call last)",
      "\u001b[1;32mc:\\Users\\Dell\\Desktop\\Biblioteca\\crarbasededatos.ipynb Cell 2'\u001b[0m in \u001b[0;36m<cell line: 40>\u001b[1;34m()\u001b[0m\n\u001b[0;32m     <a href='vscode-notebook-cell:/c%3A/Users/Dell/Desktop/Biblioteca/crarbasededatos.ipynb#ch0000001?line=25'>26</a>\u001b[0m tabla_libro \u001b[39m=\u001b[39m \u001b[39m\"\"\"\u001b[39m\u001b[39m CREATE TABLE libro(\u001b[39m\n\u001b[0;32m     <a href='vscode-notebook-cell:/c%3A/Users/Dell/Desktop/Biblioteca/crarbasededatos.ipynb#ch0000001?line=26'>27</a>\u001b[0m \n\u001b[0;32m     <a href='vscode-notebook-cell:/c%3A/Users/Dell/Desktop/Biblioteca/crarbasededatos.ipynb#ch0000001?line=27'>28</a>\u001b[0m \u001b[39midlibro INTEGER PRIMARY KEY AUTOINCREMENT,\u001b[39m\n\u001b[1;32m   (...)\u001b[0m\n\u001b[0;32m     <a href='vscode-notebook-cell:/c%3A/Users/Dell/Desktop/Biblioteca/crarbasededatos.ipynb#ch0000001?line=36'>37</a>\u001b[0m \u001b[39m)\u001b[39m\n\u001b[0;32m     <a href='vscode-notebook-cell:/c%3A/Users/Dell/Desktop/Biblioteca/crarbasededatos.ipynb#ch0000001?line=37'>38</a>\u001b[0m \u001b[39m\"\"\"\u001b[39m\n\u001b[0;32m     <a href='vscode-notebook-cell:/c%3A/Users/Dell/Desktop/Biblioteca/crarbasededatos.ipynb#ch0000001?line=38'>39</a>\u001b[0m cursor \u001b[39m=\u001b[39m conexion\u001b[39m.\u001b[39mcursor()\n\u001b[1;32m---> <a href='vscode-notebook-cell:/c%3A/Users/Dell/Desktop/Biblioteca/crarbasededatos.ipynb#ch0000001?line=39'>40</a>\u001b[0m cursor\u001b[39m.\u001b[39;49mexecute(tabla_pais)\n\u001b[0;32m     <a href='vscode-notebook-cell:/c%3A/Users/Dell/Desktop/Biblioteca/crarbasededatos.ipynb#ch0000001?line=40'>41</a>\u001b[0m cursor\u001b[39m.\u001b[39mexecute(tabla_editorial)\n\u001b[0;32m     <a href='vscode-notebook-cell:/c%3A/Users/Dell/Desktop/Biblioteca/crarbasededatos.ipynb#ch0000001?line=41'>42</a>\u001b[0m cursor\u001b[39m.\u001b[39mexecute(tabla_autor)\n",
      "\u001b[1;31mOperationalError\u001b[0m: table pais already exists"
     ]
    }
   ],
   "source": [
    "# -*- coding: utf-8 -*-\n",
    "import sqlite3\n",
    "conexion = sqlite3.connect(\"bdbiblioteca.db\")\n",
    "# En una cadena guardaremos el script de creacion de la tabla pais\n",
    "tabla_pais = \"\"\"CREATE TABLE pais(\n",
    "\n",
    "idpais INTEGER PRIMARY KEY AUTOINCREMENT,\n",
    "nombre TEXT UNIQUE,\n",
    "estado TEXT\n",
    ")\n",
    "\"\"\"\n",
    "tabla_editorial = \"\"\" CREATE TABLE editorial(\n",
    "\n",
    "ideditorial INTEGER PRIMARY KEY AUTOINCREMENT,\n",
    "nombre TEXT,\n",
    "estado TEXT\n",
    ")\n",
    "\"\"\"\n",
    "tabla_autor = \"\"\" CREATE TABLE autor(\n",
    "\n",
    "idautor INTEGER PRIMARY KEY AUTOINCREMENT,\n",
    "nombre TEXT,\n",
    "f_nacimiento TEXT\n",
    ")\n",
    "\"\"\"\n",
    "tabla_libro = \"\"\" CREATE TABLE libro(\n",
    "\n",
    "idlibro INTEGER PRIMARY KEY AUTOINCREMENT,\n",
    "titulo TEXT,\n",
    "cantidad INTEGER,\n",
    "anio INTEGER,\n",
    "precio REAL,\n",
    "estado TEXT,\n",
    "idpais INTEGER REFERENCES pais,\n",
    "ideditorial INTEGER REFERENCES editorial,\n",
    "idautor INTEGER REFERENCES autor\n",
    ")\n",
    "\"\"\"\n",
    "cursor = conexion.cursor()\n",
    "cursor.execute(tabla_pais)\n",
    "cursor.execute(tabla_editorial)\n",
    "cursor.execute(tabla_autor)\n",
    "cursor.execute(tabla_libro)\n",
    "conexion.close()"
   ]
  },
  {
   "cell_type": "code",
   "execution_count": null,
   "id": "50b3a3cd",
   "metadata": {},
   "outputs": [
    {
     "ename": "IntegrityError",
     "evalue": "UNIQUE constraint failed: pais.nombre",
     "output_type": "error",
     "traceback": [
      "\u001b[1;31m---------------------------------------------------------------------------\u001b[0m",
      "\u001b[1;31mIntegrityError\u001b[0m                            Traceback (most recent call last)",
      "\u001b[1;32mc:\\Users\\Dell\\Desktop\\Biblioteca\\crarbasededatos.ipynb Cell 3'\u001b[0m in \u001b[0;36m<cell line: 8>\u001b[1;34m()\u001b[0m\n\u001b[0;32m      <a href='vscode-notebook-cell:/c%3A/Users/Dell/Desktop/Biblioteca/crarbasededatos.ipynb#ch0000002?line=2'>3</a>\u001b[0m consulta \u001b[39m=\u001b[39m \u001b[39m\"\"\"\u001b[39m\u001b[39mINSERT INTO\u001b[39m\n\u001b[0;32m      <a href='vscode-notebook-cell:/c%3A/Users/Dell/Desktop/Biblioteca/crarbasededatos.ipynb#ch0000002?line=3'>4</a>\u001b[0m \u001b[39mPAIS (NOMBRE, ESTADO)\u001b[39m\n\u001b[0;32m      <a href='vscode-notebook-cell:/c%3A/Users/Dell/Desktop/Biblioteca/crarbasededatos.ipynb#ch0000002?line=4'>5</a>\u001b[0m \u001b[39mVALUES (\u001b[39m\u001b[39m'\u001b[39m\u001b[39mBrasil\u001b[39m\u001b[39m'\u001b[39m\u001b[39m, \u001b[39m\u001b[39m'\u001b[39m\u001b[39mA\u001b[39m\u001b[39m'\u001b[39m\u001b[39m)\u001b[39m\n\u001b[0;32m      <a href='vscode-notebook-cell:/c%3A/Users/Dell/Desktop/Biblioteca/crarbasededatos.ipynb#ch0000002?line=5'>6</a>\u001b[0m \u001b[39m\"\"\"\u001b[39m\n\u001b[0;32m      <a href='vscode-notebook-cell:/c%3A/Users/Dell/Desktop/Biblioteca/crarbasededatos.ipynb#ch0000002?line=6'>7</a>\u001b[0m cursor \u001b[39m=\u001b[39m conexion\u001b[39m.\u001b[39mcursor()\n\u001b[1;32m----> <a href='vscode-notebook-cell:/c%3A/Users/Dell/Desktop/Biblioteca/crarbasededatos.ipynb#ch0000002?line=7'>8</a>\u001b[0m cursor\u001b[39m.\u001b[39;49mexecute(consulta)\n\u001b[0;32m      <a href='vscode-notebook-cell:/c%3A/Users/Dell/Desktop/Biblioteca/crarbasededatos.ipynb#ch0000002?line=8'>9</a>\u001b[0m conexion\u001b[39m.\u001b[39mcommit()\n\u001b[0;32m     <a href='vscode-notebook-cell:/c%3A/Users/Dell/Desktop/Biblioteca/crarbasededatos.ipynb#ch0000002?line=9'>10</a>\u001b[0m conexion\u001b[39m.\u001b[39mclose()\n",
      "\u001b[1;31mIntegrityError\u001b[0m: UNIQUE constraint failed: pais.nombre"
     ]
    }
   ],
   "source": [
    "import sqlite3\n",
    "conexion = sqlite3.connect(\"bdbiblioteca.db\")\n",
    "consulta = \"\"\"INSERT INTO\n",
    "PAIS (NOMBRE, ESTADO)\n",
    "VALUES ('Brasil', 'A')\n",
    "\"\"\"\n",
    "cursor = conexion.cursor()\n",
    "cursor.execute(consulta)\n",
    "conexion.commit()\n",
    "conexion.close()"
   ]
  },
  {
   "cell_type": "code",
   "execution_count": 33,
   "id": "0ae5a056",
   "metadata": {},
   "outputs": [
    {
     "ename": "IntegrityError",
     "evalue": "UNIQUE constraint failed: pais.nombre",
     "output_type": "error",
     "traceback": [
      "\u001b[1;31m---------------------------------------------------------------------------\u001b[0m",
      "\u001b[1;31mIntegrityError\u001b[0m                            Traceback (most recent call last)",
      "\u001b[1;32mc:\\Users\\Dell\\Desktop\\Biblioteca\\crarbasededatos.ipynb Cell 4'\u001b[0m in \u001b[0;36m<cell line: 49>\u001b[1;34m()\u001b[0m\n\u001b[0;32m     <a href='vscode-notebook-cell:/c%3A/Users/Dell/Desktop/Biblioteca/crarbasededatos.ipynb#ch0000003?line=40'>41</a>\u001b[0m consulta_autor \u001b[39m=\u001b[39m \u001b[39m\"\"\"\u001b[39m\u001b[39mINSERT INTO\u001b[39m\n\u001b[0;32m     <a href='vscode-notebook-cell:/c%3A/Users/Dell/Desktop/Biblioteca/crarbasededatos.ipynb#ch0000003?line=41'>42</a>\u001b[0m \u001b[39mAUTOR(NOMBRE, F_NACIMIENTO)\u001b[39m\n\u001b[0;32m     <a href='vscode-notebook-cell:/c%3A/Users/Dell/Desktop/Biblioteca/crarbasededatos.ipynb#ch0000003?line=42'>43</a>\u001b[0m \u001b[39mVALUES (?,?)\u001b[39m\n\u001b[0;32m     <a href='vscode-notebook-cell:/c%3A/Users/Dell/Desktop/Biblioteca/crarbasededatos.ipynb#ch0000003?line=43'>44</a>\u001b[0m \u001b[39m\"\"\"\u001b[39m\n\u001b[0;32m     <a href='vscode-notebook-cell:/c%3A/Users/Dell/Desktop/Biblioteca/crarbasededatos.ipynb#ch0000003?line=44'>45</a>\u001b[0m consulta_libro \u001b[39m=\u001b[39m \u001b[39m\"\"\"\u001b[39m\u001b[39mINSERT INTO\u001b[39m\n\u001b[0;32m     <a href='vscode-notebook-cell:/c%3A/Users/Dell/Desktop/Biblioteca/crarbasededatos.ipynb#ch0000003?line=45'>46</a>\u001b[0m \u001b[39mLIBRO(TITULO, CANTIDAD, ANIO, PRECIO, ESTADO, IDAUTOR, IDEDITORIAL, IDPAIS)\u001b[39m\n\u001b[0;32m     <a href='vscode-notebook-cell:/c%3A/Users/Dell/Desktop/Biblioteca/crarbasededatos.ipynb#ch0000003?line=46'>47</a>\u001b[0m \u001b[39mVALUES (?,?,?,?,?,?,?,?)\u001b[39m\n\u001b[0;32m     <a href='vscode-notebook-cell:/c%3A/Users/Dell/Desktop/Biblioteca/crarbasededatos.ipynb#ch0000003?line=47'>48</a>\u001b[0m \u001b[39m\"\"\"\u001b[39m\n\u001b[1;32m---> <a href='vscode-notebook-cell:/c%3A/Users/Dell/Desktop/Biblioteca/crarbasededatos.ipynb#ch0000003?line=48'>49</a>\u001b[0m cursor\u001b[39m.\u001b[39;49mexecutemany(consulta_pais,lista_paises)\n\u001b[0;32m     <a href='vscode-notebook-cell:/c%3A/Users/Dell/Desktop/Biblioteca/crarbasededatos.ipynb#ch0000003?line=49'>50</a>\u001b[0m cursor\u001b[39m.\u001b[39mexecutemany(consulta_editorial,lista_editoriales)\n\u001b[0;32m     <a href='vscode-notebook-cell:/c%3A/Users/Dell/Desktop/Biblioteca/crarbasededatos.ipynb#ch0000003?line=50'>51</a>\u001b[0m cursor\u001b[39m.\u001b[39mexecutemany(consulta_autor,lista_autores)\n",
      "\u001b[1;31mIntegrityError\u001b[0m: UNIQUE constraint failed: pais.nombre"
     ]
    }
   ],
   "source": [
    "import sqlite3\n",
    "conexion = sqlite3.connect(\"bdbiblioteca.db\")\n",
    "cursor = conexion.cursor()\n",
    "lista_autores = [('Flor Cerdán', '25/10/1978'),\n",
    "('Daniel Levano', '17/01/1980'),\n",
    "('Omar Peña', '15/10/1978'),\n",
    "('Cesar Zapata', '15/10/1960')\n",
    "]\n",
    "lista_editoriales = [('EIU', 'A'),\n",
    "('Macro', 'A'),\n",
    "('Bosch', 'A'),\n",
    "('Lima Sur', 'A'),\n",
    "('Pirámide', 'A'),\n",
    "('Colombus', 'A'),\n",
    "('Centro', 'A')\n",
    "]\n",
    "lista_paises = [('Argentina', 'A'),\n",
    "('Colombia', 'A'),\n",
    "('Venezuela', 'A'),\n",
    "('Uruguay', 'A'),\n",
    "('Paraguay', 'A'),\n",
    "('USA', 'A')\n",
    "]\n",
    "lista_libros = [('Oracle 11g', 10, 2019, 50, 'A', 1, 1, 1),\n",
    "('Sistemas Operativos', 14, 2016, 59, 'A', 1, 4, 3),\n",
    "('Estructuras de Datos', 6, 2018, 20, 'A', 2, 2, 3),\n",
    "('Algoritmos con Python', 8, 2017, 70, 'A', 2, 2, 1),\n",
    "('BI', 6, 1998, 50, 'A', 1, 4, 2),\n",
    "('Ing. de Software', 9, 2000, 56, 'A', 3, 2, 4),\n",
    "('Organización de PC', 9, 2016, 60, 'A', 7, 2, 1),\n",
    "('Ensamblaje', 9, 2018, 50, 'A', 4, 4, 3)\n",
    "]\n",
    "consulta_pais = \"\"\"INSERT INTO\n",
    "PAIS(NOMBRE, ESTADO)\n",
    "VALUES (?,?)\n",
    "\"\"\"\n",
    "consulta_editorial = \"\"\"INSERT INTO\n",
    "EDITORIAL(NOMBRE, ESTADO)\n",
    "VALUES (?,?)\n",
    "\"\"\"\n",
    "consulta_autor = \"\"\"INSERT INTO\n",
    "AUTOR(NOMBRE, F_NACIMIENTO)\n",
    "VALUES (?,?)\n",
    "\"\"\"\n",
    "consulta_libro = \"\"\"INSERT INTO\n",
    "LIBRO(TITULO, CANTIDAD, ANIO, PRECIO, ESTADO, IDAUTOR, IDEDITORIAL, IDPAIS)\n",
    "VALUES (?,?,?,?,?,?,?,?)\n",
    "\"\"\"\n",
    "cursor.executemany(consulta_pais,lista_paises)\n",
    "cursor.executemany(consulta_editorial,lista_editoriales)\n",
    "cursor.executemany(consulta_autor,lista_autores)\n",
    "cursor.executemany(consulta_libro,lista_libros)\n",
    "conexion.commit()\n",
    "conexion.close()"
   ]
  },
  {
   "cell_type": "code",
   "execution_count": 32,
   "id": "ee211d4d",
   "metadata": {},
   "outputs": [
    {
     "name": "stdout",
     "output_type": "stream",
     "text": [
      "(4, 'Algoritmos con Python', 8, 2017, 70.0, 'A', 1, 2, 2)\n",
      "(6, 'Ing. de Software', 9, 2000, 56.0, 'A', 4, 2, 3)\n",
      "(7, 'Organización de PC', 9, 2016, 60.0, 'A', 1, 2, 7)\n",
      "(2, 'Sistemas Operativos', 14, 2016, 59.0, 'A', 3, 4, 1)\n"
     ]
    }
   ],
   "source": [
    "import sqlite3\n",
    "conexion = sqlite3.connect(\"bdbiblioteca.db\")\n",
    "cursor = conexion.cursor()\n",
    "consulta = \"\"\" SELECT *\n",
    "FROM LIBRO\n",
    "WHERE\n",
    "precio >= 55\n",
    "ORDER BY titulo\n",
    "\"\"\"\n",
    "cursor = conexion.cursor()\n",
    "cursor.execute(consulta)\n",
    "libros = cursor.fetchall()\n",
    "# Acá libros es una lista... entonces utilizamos un for\n",
    "for libro in libros:\n",
    "    print(libro)\n",
    "conexion.close()"
   ]
  },
  {
   "cell_type": "code",
   "execution_count": 35,
   "id": "f7794fe4",
   "metadata": {},
   "outputs": [
    {
     "ename": "OperationalError",
     "evalue": "database is locked",
     "output_type": "error",
     "traceback": [
      "\u001b[1;31m---------------------------------------------------------------------------\u001b[0m",
      "\u001b[1;31mOperationalError\u001b[0m                          Traceback (most recent call last)",
      "\u001b[1;32mc:\\Users\\Dell\\Desktop\\Biblioteca\\crarbasededatos.ipynb Cell 6'\u001b[0m in \u001b[0;36m<cell line: 10>\u001b[1;34m()\u001b[0m\n\u001b[0;32m      <a href='vscode-notebook-cell:/c%3A/Users/Dell/Desktop/Biblioteca/crarbasededatos.ipynb#ch0000005?line=7'>8</a>\u001b[0m cursor \u001b[39m=\u001b[39m conexion\u001b[39m.\u001b[39mcursor()\n\u001b[0;32m      <a href='vscode-notebook-cell:/c%3A/Users/Dell/Desktop/Biblioteca/crarbasededatos.ipynb#ch0000005?line=8'>9</a>\u001b[0m cursor\u001b[39m.\u001b[39mexecute(consulta)\n\u001b[1;32m---> <a href='vscode-notebook-cell:/c%3A/Users/Dell/Desktop/Biblioteca/crarbasededatos.ipynb#ch0000005?line=9'>10</a>\u001b[0m conexion\u001b[39m.\u001b[39;49mcommit()\n\u001b[0;32m     <a href='vscode-notebook-cell:/c%3A/Users/Dell/Desktop/Biblioteca/crarbasededatos.ipynb#ch0000005?line=10'>11</a>\u001b[0m conexion\u001b[39m.\u001b[39mclose()\n",
      "\u001b[1;31mOperationalError\u001b[0m: database is locked"
     ]
    }
   ],
   "source": [
    "import sqlite3\n",
    "conexion = sqlite3.connect(\"bdbiblioteca.db\")\n",
    "cursor = conexion.cursor()\n",
    "consulta = \"\"\" DELETE FROM EDITORIAL\n",
    "WHERE\n",
    "IDEDITORIAL = 5\n",
    "\"\"\"\n",
    "cursor = conexion.cursor()\n",
    "cursor.execute(consulta)\n",
    "conexion.commit()\n",
    "conexion.close()"
   ]
  },
  {
   "cell_type": "code",
   "execution_count": 30,
   "id": "20cb4e40",
   "metadata": {},
   "outputs": [
    {
     "ename": "OperationalError",
     "evalue": "database is locked",
     "output_type": "error",
     "traceback": [
      "\u001b[1;31m---------------------------------------------------------------------------\u001b[0m",
      "\u001b[1;31mOperationalError\u001b[0m                          Traceback (most recent call last)",
      "\u001b[1;32mc:\\Users\\Dell\\Desktop\\Biblioteca\\crarbasededatos.ipynb Cell 7'\u001b[0m in \u001b[0;36m<cell line: 12>\u001b[1;34m()\u001b[0m\n\u001b[0;32m     <a href='vscode-notebook-cell:/c%3A/Users/Dell/Desktop/Biblioteca/crarbasededatos.ipynb#ch0000006?line=9'>10</a>\u001b[0m cursor \u001b[39m=\u001b[39m conexion\u001b[39m.\u001b[39mcursor()\n\u001b[0;32m     <a href='vscode-notebook-cell:/c%3A/Users/Dell/Desktop/Biblioteca/crarbasededatos.ipynb#ch0000006?line=10'>11</a>\u001b[0m cursor\u001b[39m.\u001b[39mexecute(consulta)\n\u001b[1;32m---> <a href='vscode-notebook-cell:/c%3A/Users/Dell/Desktop/Biblioteca/crarbasededatos.ipynb#ch0000006?line=11'>12</a>\u001b[0m conexion\u001b[39m.\u001b[39;49mcommit()\n\u001b[0;32m     <a href='vscode-notebook-cell:/c%3A/Users/Dell/Desktop/Biblioteca/crarbasededatos.ipynb#ch0000006?line=12'>13</a>\u001b[0m conexion\u001b[39m.\u001b[39mclose()\n",
      "\u001b[1;31mOperationalError\u001b[0m: database is locked"
     ]
    }
   ],
   "source": [
    "import sqlite3\n",
    "conexion = sqlite3.connect(\"bdbiblioteca.db\")\n",
    "cursor = conexion.cursor()\n",
    "consulta = \"\"\" UPDATE EDITORIAL\n",
    "SET\n",
    "NOMBRE = 'Editorial Imprenta Unión'\n",
    "WHERE\n",
    "IDEDITORIAL = 1\n",
    "\"\"\"\n",
    "cursor = conexion.cursor()\n",
    "cursor.execute(consulta)\n",
    "conexion.commit()\n",
    "conexion.close()"
   ]
  }
 ],
 "metadata": {
  "interpreter": {
   "hash": "ad2bdc8ecc057115af97d19610ffacc2b4e99fae6737bb82f5d7fb13d2f2c186"
  },
  "kernelspec": {
   "display_name": "Python 3.9.12 ('base')",
   "language": "python",
   "name": "python3"
  },
  "language_info": {
   "codemirror_mode": {
    "name": "ipython",
    "version": 3
   },
   "file_extension": ".py",
   "mimetype": "text/x-python",
   "name": "python",
   "nbconvert_exporter": "python",
   "pygments_lexer": "ipython3",
   "version": "3.9.12"
  }
 },
 "nbformat": 4,
 "nbformat_minor": 5
}
